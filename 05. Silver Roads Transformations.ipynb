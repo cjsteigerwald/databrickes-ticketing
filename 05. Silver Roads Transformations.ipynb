{
 "cells": [
  {
   "cell_type": "markdown",
   "metadata": {
    "application/vnd.databricks.v1+cell": {
     "cellMetadata": {
      "byteLimit": 2048000,
      "rowLimit": 10000
     },
     "inputWidgets": {},
     "nuid": "36261e7a-3085-44b5-8582-64ca1f035234",
     "showTitle": false,
     "tableResultSettingsMap": {},
     "title": ""
    }
   },
   "source": [
    "### Running common notebook to get access to variables"
   ]
  },
  {
   "cell_type": "code",
   "execution_count": 0,
   "metadata": {
    "application/vnd.databricks.v1+cell": {
     "cellMetadata": {
      "byteLimit": 2048000,
      "rowLimit": 10000
     },
     "inputWidgets": {},
     "nuid": "eeda16d1-2466-48a3-9f55-aaba4062bbd5",
     "showTitle": false,
     "tableResultSettingsMap": {},
     "title": ""
    }
   },
   "outputs": [],
   "source": [
    "%run \"/Users/cjsteigerwald@gmail.com/dbs-traffic-project/04. Common\""
   ]
  },
  {
   "cell_type": "code",
   "execution_count": 0,
   "metadata": {
    "application/vnd.databricks.v1+cell": {
     "cellMetadata": {
      "byteLimit": 2048000,
      "rowLimit": 10000
     },
     "inputWidgets": {},
     "nuid": "c19609a8-8e11-44bb-924c-ac2301c2fa07",
     "showTitle": false,
     "tableResultSettingsMap": {},
     "title": ""
    }
   },
   "outputs": [],
   "source": [
    "dbutils.widgets.text(name=\"env\",defaultValue='',label='Enter the environment in lower case')\n",
    "env = dbutils.widgets.get(\"env\")"
   ]
  },
  {
   "cell_type": "markdown",
   "metadata": {
    "application/vnd.databricks.v1+cell": {
     "cellMetadata": {
      "byteLimit": 2048000,
      "rowLimit": 10000
     },
     "inputWidgets": {},
     "nuid": "fd1f6cad-494e-4d8f-aa77-37413ec983b4",
     "showTitle": false,
     "tableResultSettingsMap": {},
     "title": ""
    }
   },
   "source": [
    "### Reading from bronze raw_Roads"
   ]
  },
  {
   "cell_type": "code",
   "execution_count": 0,
   "metadata": {
    "application/vnd.databricks.v1+cell": {
     "cellMetadata": {
      "byteLimit": 2048000,
      "rowLimit": 10000
     },
     "inputWidgets": {},
     "nuid": "52d2d8e8-77e9-4352-8006-f66f9af937fb",
     "showTitle": false,
     "tableResultSettingsMap": {},
     "title": ""
    }
   },
   "outputs": [],
   "source": [
    "def read_BronzeRoadsTable(environment):\n",
    "    print('Reading the Bronze Table raw_roads Data : ',end='')\n",
    "    df_bronzeRoads = (spark.readStream\n",
    "                    .table(f\"`{environment}_catalog`.`bronze`.raw_roads\")\n",
    "                    )\n",
    "    print(f'Reading {environment}_catalog.bronze.raw_roads Success!')\n",
    "    print(\"**********************************\")\n",
    "    return df_bronzeRoads"
   ]
  },
  {
   "cell_type": "code",
   "execution_count": 0,
   "metadata": {
    "application/vnd.databricks.v1+cell": {
     "cellMetadata": {
      "byteLimit": 2048000,
      "rowLimit": 10000
     },
     "inputWidgets": {},
     "nuid": "f9f38677-5fd4-4067-b6ad-bf50dd5fc8c5",
     "showTitle": false,
     "tableResultSettingsMap": {},
     "title": ""
    }
   },
   "outputs": [],
   "source": [
    "df_roads = read_BronzeRoadsTable(env)"
   ]
  },
  {
   "cell_type": "markdown",
   "metadata": {
    "application/vnd.databricks.v1+cell": {
     "cellMetadata": {
      "byteLimit": 2048000,
      "rowLimit": 10000
     },
     "inputWidgets": {},
     "nuid": "fbc65457-16b1-4b40-a64d-138aca441724",
     "showTitle": false,
     "tableResultSettingsMap": {},
     "title": ""
    }
   },
   "source": [
    "### Creating road_category_name column"
   ]
  },
  {
   "cell_type": "code",
   "execution_count": 0,
   "metadata": {
    "application/vnd.databricks.v1+cell": {
     "cellMetadata": {
      "byteLimit": 2048000,
      "rowLimit": 10000
     },
     "inputWidgets": {},
     "nuid": "84d84c57-eeef-4c78-8cd1-1e1f81d96fcf",
     "showTitle": false,
     "tableResultSettingsMap": {},
     "title": ""
    }
   },
   "outputs": [],
   "source": [
    "def road_Category(df):\n",
    "    print('Creating Road Category Name Column: ', end='')\n",
    "    from pyspark.sql.functions import when,col\n",
    "\n",
    "    df_road_Cat = df.withColumn(\"Road_Category_Name\",\n",
    "                  when(col('Road_Category') == 'TA', 'Class A Trunk Road')\n",
    "                  .when(col('Road_Category') == 'TM', 'Class A Trunk Motor')\n",
    "                   .when(col('Road_Category') == 'PA','Class A Principal road')\n",
    "                    .when(col('Road_Category') == 'PM','Class A Principal Motorway')\n",
    "                    .when(col('Road_Category') == 'M','Class B road')\n",
    "                    .otherwise('NA')\n",
    "                  \n",
    "                  )\n",
    "    print('Success!! ')\n",
    "    print('***********************')\n",
    "    return df_road_Cat"
   ]
  },
  {
   "cell_type": "markdown",
   "metadata": {
    "application/vnd.databricks.v1+cell": {
     "cellMetadata": {
      "byteLimit": 2048000,
      "rowLimit": 10000
     },
     "inputWidgets": {},
     "nuid": "d8ee31bb-52bc-4ec2-945e-1f031c3e2047",
     "showTitle": false,
     "tableResultSettingsMap": {},
     "title": ""
    }
   },
   "source": [
    "### Creating road_type column"
   ]
  },
  {
   "cell_type": "code",
   "execution_count": 0,
   "metadata": {
    "application/vnd.databricks.v1+cell": {
     "cellMetadata": {
      "byteLimit": 2048000,
      "rowLimit": 10000
     },
     "inputWidgets": {},
     "nuid": "bf126eb9-daef-4171-b064-05429a92ee00",
     "showTitle": false,
     "tableResultSettingsMap": {},
     "title": ""
    }
   },
   "outputs": [],
   "source": [
    "def road_Type(df):\n",
    "    print('Creating Road Type Name Column: ', end='')\n",
    "    from pyspark.sql.functions import when,col\n",
    "\n",
    "    df_road_Type = df.withColumn(\"Road_Type\",\n",
    "                  when(col('Road_Category_Name').like('%Class A%'),'Major')\n",
    "                  .when(col('Road_Category_Name').like('%Class B%'),'Minor')\n",
    "                    .otherwise('NA')\n",
    "                  \n",
    "                  )\n",
    "    print('Success!! ')\n",
    "    print('***********************')\n",
    "    return df_road_Type"
   ]
  },
  {
   "cell_type": "markdown",
   "metadata": {
    "application/vnd.databricks.v1+cell": {
     "cellMetadata": {
      "byteLimit": 2048000,
      "rowLimit": 10000
     },
     "inputWidgets": {},
     "nuid": "b726b742-64ba-4fb6-9190-84f6a9e4f92b",
     "showTitle": false,
     "tableResultSettingsMap": {},
     "title": ""
    }
   },
   "source": [
    "### Writing data to silver_roads in Silver schema"
   ]
  },
  {
   "cell_type": "code",
   "execution_count": 0,
   "metadata": {
    "application/vnd.databricks.v1+cell": {
     "cellMetadata": {
      "byteLimit": 2048000,
      "rowLimit": 10000
     },
     "inputWidgets": {},
     "nuid": "8a60b600-86ef-4a68-acd2-213bb349c55f",
     "showTitle": false,
     "tableResultSettingsMap": {},
     "title": ""
    }
   },
   "outputs": [],
   "source": [
    "def write_Roads_SilverTable(StreamingDF,environment):\n",
    "    print('Writing the silver_roads Data : ',end='') \n",
    "\n",
    "    write_StreamSilver_R = (StreamingDF.writeStream\n",
    "                .format('delta')\n",
    "                .option('checkpointLocation',checkpoint+ \"/SilverRoadsLoad/Checkpt/\")\n",
    "                .outputMode('append')\n",
    "                .queryName(\"SilverRoadsWriteStream\")\n",
    "                .trigger(availableNow=True)\n",
    "                .toTable(f\"`{environment}_catalog`.`silver`.`silver_roads`\"))\n",
    "    \n",
    "    write_StreamSilver_R.awaitTermination()\n",
    "    print(f'Writing `{environment}_catalog`.`silver`.`silver_roads` Success!')"
   ]
  },
  {
   "cell_type": "markdown",
   "metadata": {
    "application/vnd.databricks.v1+cell": {
     "cellMetadata": {
      "byteLimit": 2048000,
      "rowLimit": 10000
     },
     "inputWidgets": {},
     "nuid": "2fd6938e-7b6b-4935-a170-dbc25f63f469",
     "showTitle": false,
     "tableResultSettingsMap": {},
     "title": ""
    }
   },
   "source": [
    "### Calling functions"
   ]
  },
  {
   "cell_type": "code",
   "execution_count": 0,
   "metadata": {
    "application/vnd.databricks.v1+cell": {
     "cellMetadata": {
      "byteLimit": 2048000,
      "rowLimit": 10000
     },
     "inputWidgets": {},
     "nuid": "ff6e7da3-288d-4621-b54f-26459ca19076",
     "showTitle": false,
     "tableResultSettingsMap": {},
     "title": ""
    }
   },
   "outputs": [],
   "source": [
    "df_noDups = remove_Dups(df_roads)\n",
    "\n",
    "AllColumns = df_noDups.schema.names\n",
    "df_clean = handle_NULLs(df_noDups,AllColumns)\n",
    "\n",
    "## Creating Road_Category_name \n",
    "df_roadCat = road_Category(df_clean)\n",
    "\n",
    "## Creating Road_Type column\n",
    "df_type = road_Type(df_roadCat)\n",
    "\n",
    "## Writing data to silver_roads table\n",
    "\n",
    "write_Roads_SilverTable(df_type,env)"
   ]
  }
 ],
 "metadata": {
  "application/vnd.databricks.v1+notebook": {
   "computePreferences": null,
   "dashboards": [],
   "environmentMetadata": {
    "base_environment": "",
    "client": "1"
   },
   "language": "python",
   "notebookMetadata": {
    "pythonIndentUnit": 4
   },
   "notebookName": "05. Silver Roads Transformations",
   "widgets": {
    "env": {
     "currentValue": "dev",
     "nuid": "7f4910da-04fd-4fb3-831f-2cc663d7d168",
     "typedWidgetInfo": {
      "autoCreated": false,
      "defaultValue": "",
      "label": "Enter the environment in lower case",
      "name": "env",
      "options": {
       "widgetDisplayType": "Text",
       "validationRegex": null
      },
      "parameterDataType": "String"
     },
     "widgetInfo": {
      "widgetType": "text",
      "defaultValue": "",
      "label": "Enter the environment in lower case",
      "name": "env",
      "options": {
       "widgetType": "text",
       "autoCreated": null,
       "validationRegex": null
      }
     }
    }
   }
  },
  "language_info": {
   "name": "python"
  }
 },
 "nbformat": 4,
 "nbformat_minor": 0
}
