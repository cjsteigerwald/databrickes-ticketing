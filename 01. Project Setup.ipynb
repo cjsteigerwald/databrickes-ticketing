{
 "cells": [
  {
   "cell_type": "code",
   "execution_count": 0,
   "metadata": {
    "application/vnd.databricks.v1+cell": {
     "cellMetadata": {
      "byteLimit": 2048000,
      "rowLimit": 10000
     },
     "inputWidgets": {},
     "nuid": "57dfb5b5-81bb-46ce-9e07-3cac656f4859",
     "showTitle": false,
     "tableResultSettingsMap": {},
     "title": ""
    }
   },
   "outputs": [],
   "source": [
    "spark.sql(\"\"\" USE CATALOG dev_catalog\"\"\")"
   ]
  },
  {
   "cell_type": "code",
   "execution_count": 0,
   "metadata": {
    "application/vnd.databricks.v1+cell": {
     "cellMetadata": {
      "byteLimit": 2048000,
      "implicitDf": true,
      "rowLimit": 10000
     },
     "inputWidgets": {},
     "nuid": "b5a464c0-035c-4a61-b283-4aff5e7cc907",
     "showTitle": false,
     "tableResultSettingsMap": {},
     "title": ""
    }
   },
   "outputs": [],
   "source": [
    "bronze_path = spark.sql(\"\"\"DESCRIBE EXTERNAL LOCATION `bronze`\"\"\").select(\"url\").collect()[0][0]\n",
    "silver_path = spark.sql(\"\"\"DESCRIBE EXTERNAL LOCATION `silver`\"\"\").select(\"url\").collect()[0][0]\n",
    "gold_path = spark.sql(\"\"\"DESCRIBE EXTERNAL LOCATION `gold`\"\"\").select(\"url\").collect()[0][0]"
   ]
  },
  {
   "cell_type": "code",
   "execution_count": 0,
   "metadata": {
    "application/vnd.databricks.v1+cell": {
     "cellMetadata": {
      "byteLimit": 2048000,
      "implicitDf": true,
      "rowLimit": 10000
     },
     "inputWidgets": {},
     "nuid": "dc12a540-e546-471e-b297-602514382bb9",
     "showTitle": false,
     "tableResultSettingsMap": {},
     "title": ""
    }
   },
   "outputs": [],
   "source": [
    "dbutils.widgets.text(name=\"env\",defaultValue=\"\",label=\" Enter the environment in lower case\")\n",
    "env = dbutils.widgets.get(\"env\")"
   ]
  },
  {
   "cell_type": "code",
   "execution_count": 0,
   "metadata": {
    "application/vnd.databricks.v1+cell": {
     "cellMetadata": {
      "byteLimit": 2048000,
      "implicitDf": true,
      "rowLimit": 10000
     },
     "inputWidgets": {},
     "nuid": "8fd5befd-8aaf-418f-aaae-d9cf36dd705d",
     "showTitle": false,
     "tableResultSettingsMap": {},
     "title": ""
    }
   },
   "outputs": [],
   "source": [
    "def create_Bronze_Schema(environment,path):\n",
    "    print(f'Using {environment}_Catalog ')\n",
    "    spark.sql(f\"\"\" USE CATALOG '{environment}_catalog'\"\"\")\n",
    "    print(f'Creating Bronze Schema in {environment}_Catalog')\n",
    "    spark.sql(f\"\"\"CREATE SCHEMA IF NOT EXISTS `bronze` MANAGED LOCATION '{path}/bronze'\"\"\")"
   ]
  },
  {
   "cell_type": "code",
   "execution_count": 0,
   "metadata": {
    "application/vnd.databricks.v1+cell": {
     "cellMetadata": {
      "byteLimit": 2048000,
      "rowLimit": 10000
     },
     "inputWidgets": {},
     "nuid": "5c48a6a2-e79a-4630-a11c-1f6253abec95",
     "showTitle": false,
     "tableResultSettingsMap": {},
     "title": ""
    }
   },
   "outputs": [],
   "source": [
    "def create_Silver_Schema(environment,path):\n",
    "    print(f'Using {environment}_Catalog ')\n",
    "    spark.sql(f\"\"\" USE CATALOG '{environment}_catalog'\"\"\")\n",
    "    print(f'Creating Silver Schema in {environment}_Catalog')\n",
    "    spark.sql(f\"\"\"CREATE SCHEMA IF NOT EXISTS `silver` MANAGED LOCATION '{path}/silver'\"\"\")"
   ]
  },
  {
   "cell_type": "code",
   "execution_count": 0,
   "metadata": {
    "application/vnd.databricks.v1+cell": {
     "cellMetadata": {
      "byteLimit": 2048000,
      "rowLimit": 10000
     },
     "inputWidgets": {},
     "nuid": "2ab7c2cd-5841-4664-968f-0aa9471497c9",
     "showTitle": false,
     "tableResultSettingsMap": {},
     "title": ""
    }
   },
   "outputs": [],
   "source": [
    "def create_Gold_Schema(environment,path):\n",
    "    print(f'Using {environment}_Catalog ')\n",
    "    spark.sql(f\"\"\" USE CATALOG '{environment}_catalog'\"\"\")\n",
    "    print(f'Creating Gold Schema in {environment}_Catalog')\n",
    "    spark.sql(f\"\"\"CREATE SCHEMA IF NOT EXISTS `gold` MANAGED LOCATION '{path}/gold'\"\"\")"
   ]
  },
  {
   "cell_type": "markdown",
   "metadata": {
    "application/vnd.databricks.v1+cell": {
     "cellMetadata": {
      "byteLimit": 2048000,
      "rowLimit": 10000
     },
     "inputWidgets": {},
     "nuid": "3ad1ed9e-aca1-4342-825d-49d2f1bf6a6b",
     "showTitle": false,
     "tableResultSettingsMap": {},
     "title": ""
    }
   },
   "source": [
    "## Creating Bronze Tables"
   ]
  },
  {
   "cell_type": "markdown",
   "metadata": {
    "application/vnd.databricks.v1+cell": {
     "cellMetadata": {
      "byteLimit": 2048000,
      "rowLimit": 10000
     },
     "inputWidgets": {},
     "nuid": "7649945e-fd49-46fd-b549-3a52f7e61444",
     "showTitle": false,
     "tableResultSettingsMap": {},
     "title": ""
    }
   },
   "source": [
    "#### Createing raw_traffic table"
   ]
  },
  {
   "cell_type": "code",
   "execution_count": 0,
   "metadata": {
    "application/vnd.databricks.v1+cell": {
     "cellMetadata": {
      "byteLimit": 2048000,
      "rowLimit": 10000
     },
     "inputWidgets": {},
     "nuid": "606ae341-8a3e-44ba-b58f-4ad9997b84ce",
     "showTitle": false,
     "tableResultSettingsMap": {},
     "title": ""
    }
   },
   "outputs": [],
   "source": [
    "def createTable_rawTraffic(environment):\n",
    "    print(f'Creating raw_Traffic table in {environment}_catalog')\n",
    "    spark.sql(f\"\"\"CREATE TABLE IF NOT EXISTS `{environment}_catalog`.`bronze`.`raw_traffic`\n",
    "                        (\n",
    "                            Record_ID INT,\n",
    "                            Count_point_id INT,\n",
    "                            Direction_of_travel VARCHAR(255),\n",
    "                            Year INT,\n",
    "                            Count_date VARCHAR(255),\n",
    "                            hour INT,\n",
    "                            Region_id INT,\n",
    "                            Region_name VARCHAR(255),\n",
    "                            Local_authority_name VARCHAR(255),\n",
    "                            Road_name VARCHAR(255),\n",
    "                            Road_Category_ID INT,\n",
    "                            Start_junction_road_name VARCHAR(255),\n",
    "                            End_junction_road_name VARCHAR(255),\n",
    "                            Latitude DOUBLE,\n",
    "                            Longitude DOUBLE,\n",
    "                            Link_length_km DOUBLE,\n",
    "                            Pedal_cycles INT,\n",
    "                            Two_wheeled_motor_vehicles INT,\n",
    "                            Cars_and_taxis INT,\n",
    "                            Buses_and_coaches INT,\n",
    "                            LGV_Type INT,\n",
    "                            HGV_Type INT,\n",
    "                            EV_Car INT,\n",
    "                            EV_Bike INT,\n",
    "                            Extract_Time TIMESTAMP\n",
    "                    );\"\"\")\n",
    "    \n",
    "    print(\"************************************\")"
   ]
  },
  {
   "cell_type": "markdown",
   "metadata": {
    "application/vnd.databricks.v1+cell": {
     "cellMetadata": {
      "byteLimit": 2048000,
      "rowLimit": 10000
     },
     "inputWidgets": {},
     "nuid": "518875f4-852c-4b2d-b6f4-02877fa115ad",
     "showTitle": false,
     "tableResultSettingsMap": {},
     "title": ""
    }
   },
   "source": [
    "#### Creating raw_roads Table"
   ]
  },
  {
   "cell_type": "code",
   "execution_count": 0,
   "metadata": {
    "application/vnd.databricks.v1+cell": {
     "cellMetadata": {
      "byteLimit": 2048000,
      "rowLimit": 10000
     },
     "inputWidgets": {},
     "nuid": "752a5b19-ba4a-4ca9-b617-f7b093444c73",
     "showTitle": false,
     "tableResultSettingsMap": {},
     "title": ""
    }
   },
   "outputs": [],
   "source": [
    "def createTable_rawRoad(environment):\n",
    "    print(f'Creating raw_roads table in {environment}_catalog')\n",
    "    spark.sql(f\"\"\"CREATE TABLE IF NOT EXISTS `{environment}_catalog`.`bronze`.`raw_roads`\n",
    "                        (\n",
    "                            Road_ID INT,\n",
    "                            Road_Category_Id INT,\n",
    "                            Road_Category VARCHAR(255),\n",
    "                            Region_ID INT,\n",
    "                            Region_Name VARCHAR(255),\n",
    "                            Total_Link_Length_Km DOUBLE,\n",
    "                            Total_Link_Length_Miles DOUBLE,\n",
    "                            All_Motor_Vehicles DOUBLE\n",
    "                    );\"\"\")\n",
    "    \n",
    "    print(\"************************************\")"
   ]
  },
  {
   "cell_type": "markdown",
   "metadata": {
    "application/vnd.databricks.v1+cell": {
     "cellMetadata": {
      "byteLimit": 2048000,
      "rowLimit": 10000
     },
     "inputWidgets": {},
     "nuid": "5d99cc93-f233-452e-9c37-9986c567b04f",
     "showTitle": false,
     "tableResultSettingsMap": {},
     "title": ""
    }
   },
   "source": [
    "## Calling all functions"
   ]
  },
  {
   "cell_type": "code",
   "execution_count": 0,
   "metadata": {
    "application/vnd.databricks.v1+cell": {
     "cellMetadata": {
      "byteLimit": 2048000,
      "rowLimit": 10000
     },
     "inputWidgets": {},
     "nuid": "f8293038-0af2-4800-ba6a-8a5974ef6b3d",
     "showTitle": false,
     "tableResultSettingsMap": {},
     "title": ""
    }
   },
   "outputs": [],
   "source": [
    "create_Bronze_Schema(env,bronze_path)\n",
    "createTable_rawTraffic(env)\n",
    "createTable_rawRoad(env)\n",
    "\n",
    "\n",
    "create_Silver_Schema(env,silver_path)\n",
    "create_Gold_Schema(env,gold_path)"
   ]
  }
 ],
 "metadata": {
  "application/vnd.databricks.v1+notebook": {
   "computePreferences": null,
   "dashboards": [],
   "environmentMetadata": {
    "base_environment": "",
    "client": "1"
   },
   "language": "python",
   "notebookMetadata": {
    "mostRecentlyExecutedCommandWithImplicitDF": {
     "commandId": -1,
     "dataframes": [
      "_sqldf"
     ]
    },
    "pythonIndentUnit": 4
   },
   "notebookName": "01. Project Setup",
   "widgets": {
    "env": {
     "currentValue": "dev",
     "nuid": "e1a66812-cb07-47b2-a980-0f16d7bff118",
     "typedWidgetInfo": {
      "autoCreated": false,
      "defaultValue": "",
      "label": " Enter the environment in lower case",
      "name": "env",
      "options": {
       "widgetDisplayType": "Text",
       "validationRegex": null
      },
      "parameterDataType": "String"
     },
     "widgetInfo": {
      "widgetType": "text",
      "defaultValue": "",
      "label": " Enter the environment in lower case",
      "name": "env",
      "options": {
       "widgetType": "text",
       "autoCreated": null,
       "validationRegex": null
      }
     }
    }
   }
  },
  "language_info": {
   "name": "python"
  }
 },
 "nbformat": 4,
 "nbformat_minor": 0
}
